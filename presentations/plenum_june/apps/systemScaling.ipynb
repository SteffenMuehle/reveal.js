{
 "cells": [
  {
   "cell_type": "code",
   "execution_count": 2,
   "metadata": {},
   "outputs": [
    {
     "name": "stderr",
     "output_type": "stream",
     "text": [
      "┌ Info: Precompiling Mux [a975b10e-0019-58db-a62f-e48ff68538c9]\n",
      "└ @ Base loading.jl:1278\n",
      "┌ Info: Precompiling Plots [91a5bcdd-55d7-5caf-9e0b-520d859cae80]\n",
      "└ @ Base loading.jl:1278\n",
      "┌ Info: Precompiling Interpolations [a98d9a8b-a2ab-59e6-89dd-64a1c18fca59]\n",
      "└ @ Base loading.jl:1278\n"
     ]
    }
   ],
   "source": [
    "using Interact\n",
    "using Mux\n",
    "using Plots\n",
    "using DelimitedFiles\n",
    "using Interpolations"
   ]
  },
  {
   "cell_type": "markdown",
   "metadata": {},
   "source": [
    "### read files"
   ]
  },
  {
   "cell_type": "code",
   "execution_count": 3,
   "metadata": {},
   "outputs": [],
   "source": [
    "Ns=1:10\n",
    "νs=(1/60)*(0.2:0.2:10.0)\n",
    "r=readdlm(\"data/r_squared_delay.txt\")\n",
    "s=readdlm(\"data/s_squared_delay.txt\")\n",
    "t=readdlm(\"data/t_squared_delay.txt\");"
   ]
  },
  {
   "cell_type": "code",
   "execution_count": 4,
   "metadata": {},
   "outputs": [],
   "source": [
    "for i in 1:size(r)[1], j in 1:size(r)[2] \n",
    "    r[i,j]=min(r[i,j],1)\n",
    "end"
   ]
  },
  {
   "cell_type": "code",
   "execution_count": 5,
   "metadata": {},
   "outputs": [],
   "source": [
    "max_r=zeros(length(Ns))\n",
    "i=0\n",
    "for N in Ns\n",
    "    i+=1\n",
    "    max_r[i]=60*νs[findfirst(x->x>0.05,r[i,:])]\n",
    "end\n",
    "colors=[:green, :blue, :purple, :red];"
   ]
  },
  {
   "cell_type": "markdown",
   "metadata": {},
   "source": [
    "## interpolations and scaling plots"
   ]
  },
  {
   "cell_type": "code",
   "execution_count": null,
   "metadata": {},
   "outputs": [
    {
     "name": "stderr",
     "output_type": "stream",
     "text": [
      "┌ Info: Precompiling GR_jll [d2c73de3-f751-5644-a686-071e5b155ba9]\n",
      "└ @ Base loading.jl:1278\n"
     ]
    }
   ],
   "source": [
    "data=s\n",
    "sitp = scale(interpolate(data, BSpline(Cubic(Line(OnGrid())))), Ns, νs)\n",
    "\n",
    "@manipulate for top in 0.2:0.1:10.0\n",
    "xmin,xmax,ymin,ymax=(0.2,top,1,10)\n",
    "pmin=findfirst(p->(xmax*p>xmin && ymax*p>ymin),0:0.01:1)\n",
    "p=(0.01*pmin):0.01:1\n",
    "\n",
    "X,Y=(xmax*p, ymax*p)\n",
    "Z=[sitp(Y[k],X[k]./60) for k in 1:length(X)]\n",
    "plot2=plot(p,Z,xlim=[0,1],ylim=[0.58,1.4],xlab=\"along straight line\")\n",
    "\n",
    "X=(0.2:0.05:10.0)./60\n",
    "Y=1.0:0.05:10.0\n",
    "S=[sitp(y,x) for y in Y, x in X]\n",
    "plot1=heatmap(60*X,Y,S,xlab=\"requests per minute\",ylab=\"number of buses\",colorbar_title=\"driven distance\",legend=:bottomright,\n",
    "    yticks=Ns,aspectratio=.7,c=colors,clim=(0.7,1.7),frame=:box,size=[800,500],left_margin=8Plots.mm)\n",
    "plot!(max_r,Ns,linewidth=2,linecolor=:orange,markersize=5,markercolor=:orange,marker=:circle,label=\">5% rejected\")\n",
    "plot!(xmax*p,ymax*p,linewidth=3,linecolor=:silver,label=\"straight line\")\n",
    "\n",
    "plot(plot1,plot2,size=[1200,400])\n",
    "end"
   ]
  },
  {
   "cell_type": "code",
   "execution_count": null,
   "metadata": {},
   "outputs": [],
   "source": [
    "data=t\n",
    "sitp = scale(interpolate(data, BSpline(Cubic(Line(OnGrid())))), Ns, νs)\n",
    "\n",
    "@manipulate for top in 0.2:0.1:10.0\n",
    "xmin,xmax,ymin,ymax=(0.2,top,1,10)\n",
    "pmin=findfirst(p->(xmax*p>xmin && ymax*p>ymin),0:0.01:1)\n",
    "p=(0.01*pmin):0.01:1\n",
    "\n",
    "X,Y=(xmax*p, ymax*p)\n",
    "Z=[sitp(Y[k],X[k]./60) for k in 1:length(X)]\n",
    "plot2=plot(p,Z,xlim=[0,1],ylim=[0.5,5],xlab=\"along straight line\")\n",
    "\n",
    "X=(0.2:0.05:10.0)./60\n",
    "Y=1.0:0.05:10.0\n",
    "S=[sitp(y,x) for y in Y, x in X]\n",
    "plot1=heatmap(60*X,Y,S,xlab=\"requests per minute\",ylab=\"number of buses\",colorbar_title=\"delay time\",legend=:bottomright,\n",
    "    yticks=Ns,aspectratio=.7,c=colors,clim=(0.7,5),frame=:box,size=[800,500],left_margin=8Plots.mm)\n",
    "plot!(max_r,Ns,linewidth=2,linecolor=:orange,markersize=5,markercolor=:orange,marker=:circle,label=\">5% rejected\")\n",
    "plot!(xmax*p,ymax*p,linewidth=3,linecolor=:silver,label=\"straight line\")\n",
    "\n",
    "plot(plot1,plot2,size=[1200,400])\n",
    "end"
   ]
  },
  {
   "cell_type": "markdown",
   "metadata": {},
   "source": [
    "## app"
   ]
  },
  {
   "cell_type": "code",
   "execution_count": null,
   "metadata": {},
   "outputs": [],
   "source": [
    "data_t=t\n",
    "sitp_t = scale(interpolate(data_t, BSpline(Cubic(Line(OnGrid())))), Ns, νs)\n",
    "\n",
    "data_s=s\n",
    "sitp_s = scale(interpolate(data_s, BSpline(Cubic(Line(OnGrid())))), Ns, νs)\n",
    "\n",
    "ui=@manipulate for top in 0.2:0.1:10.0\n",
    "xmin,xmax,ymin,ymax=(0.2,top,1,10)\n",
    "pmin=findfirst(p->(xmax*p>xmin && ymax*p>ymin),0:0.01:1)\n",
    "p=(0.01*pmin):0.01:1\n",
    "\n",
    "    #t\n",
    "X,Y=(xmax*p, ymax*p)\n",
    "Z=[sitp_t(Y[k],X[k]./60) for k in 1:length(X)]\n",
    "plot2=plot(p,Z,xlim=[0,1],ylim=[0.7,8],xlab=\"along straight line\",ylab=\"delay time\",frame=:box,legend=:none)\n",
    "\n",
    "X=(0.2:0.05:10.0)./60\n",
    "Y=1.0:0.05:10.0\n",
    "S=[sitp_t(y,x) for y in Y, x in X]\n",
    "plot1=heatmap(60*X,Y,S,xlab=\"requests per minute\",ylab=\"number of buses\",title=\"delay time\",legend=:bottomright,\n",
    "    yticks=Ns,aspectratio=.7,c=colors,clim=(0.7,5),frame=:box,size=[800,500],left_margin=8Plots.mm)\n",
    "plot!(max_r,Ns,linewidth=2,linecolor=:orange,markersize=5,markercolor=:orange,marker=:circle,label=\">5% rejected\")\n",
    "plot!(xmax*p,ymax*p,linewidth=3,linecolor=:silver,label=\"straight line\")\n",
    "    \n",
    "    #s\n",
    "X,Y=(xmax*p, ymax*p)\n",
    "Z=[sitp_s(Y[k],X[k]./60) for k in 1:length(X)]\n",
    "plot4=plot(p,Z,xlim=[0,1],ylim=[0.5,1.7],xlab=\"along straight line\",ylab=\"driven distance\",frame=:box,legend=:none)\n",
    "\n",
    "X=(0.2:0.05:10.0)./60\n",
    "Y=1.0:0.05:10.0\n",
    "S=[sitp_s(y,x) for y in Y, x in X]\n",
    "plot3=heatmap(60*X,Y,S,xlab=\"requests per minute\",ylab=\"number of buses\",title=\"driven distance\",legend=:bottomright,\n",
    "    yticks=Ns,aspectratio=.7,c=colors,clim=(0.5,1.7),frame=:box,size=[800,500],left_margin=8Plots.mm)\n",
    "plot!(max_r,Ns,linewidth=2,linecolor=:orange,markersize=5,markercolor=:orange,marker=:circle,label=\">5% rejected\")\n",
    "plot!(xmax*p,ymax*p,linewidth=3,linecolor=:silver,label=\"straight line\")\n",
    "    \n",
    "plot(plot1,plot2,plot3,plot4,size=[1000,700])\n",
    "end;"
   ]
  },
  {
   "cell_type": "code",
   "execution_count": null,
   "metadata": {},
   "outputs": [],
   "source": [
    "@layout! ui vbox(hbox(:top), observe(_));"
   ]
  },
  {
   "cell_type": "code",
   "execution_count": null,
   "metadata": {},
   "outputs": [],
   "source": [
    "WebIO.webio_serve(page(\"/\", req -> ui), 8102);"
   ]
  }
 ],
 "metadata": {
  "@webio": {
   "lastCommId": "dcadb2a3-4c89-476f-8834-6aff278621ca",
   "lastKernelId": "b3ad3478-7dc1-46cd-9987-785b225e9751"
  },
  "kernelspec": {
   "display_name": "Julia 1.5.3",
   "language": "julia",
   "name": "julia-1.5"
  },
  "language_info": {
   "file_extension": ".jl",
   "mimetype": "application/julia",
   "name": "julia",
   "version": "1.5.3"
  }
 },
 "nbformat": 4,
 "nbformat_minor": 4
}
