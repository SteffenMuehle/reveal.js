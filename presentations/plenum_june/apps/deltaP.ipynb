{
 "cells": [
  {
   "cell_type": "code",
   "execution_count": 3,
   "metadata": {},
   "outputs": [
    {
     "name": "stderr",
     "output_type": "stream",
     "text": [
      "┌ Info: Precompiling Mux [a975b10e-0019-58db-a62f-e48ff68538c9]\n",
      "└ @ Base loading.jl:1278\n",
      "┌ Info: Precompiling Plots [91a5bcdd-55d7-5caf-9e0b-520d859cae80]\n",
      "└ @ Base loading.jl:1278\n",
      "┌ Warning: The call to compilecache failed to create a usable precompiled cache file for Plots [91a5bcdd-55d7-5caf-9e0b-520d859cae80]\n",
      "│   exception = ErrorException(\"Required dependency GR [28b8d3ca-fb5f-59d9-8090-bfdbd6d07a71] failed to load from a cache file.\")\n",
      "└ @ Base loading.jl:1042\n"
     ]
    }
   ],
   "source": [
    "using Interact\n",
    "using Mux\n",
    "using Plots\n",
    "using DelimitedFiles"
   ]
  },
  {
   "cell_type": "markdown",
   "metadata": {},
   "source": [
    "### read files"
   ]
  },
  {
   "cell_type": "code",
   "execution_count": 4,
   "metadata": {},
   "outputs": [],
   "source": [
    "Ns=1:10\n",
    "νs=(1/60)*(0.2:0.2:10.0)\n",
    "r=readdlm(\"data/r_squared_delay.txt\")\n",
    "s=readdlm(\"data/s_squared_delay.txt\")\n",
    "t=readdlm(\"data/t_squared_delay.txt\");"
   ]
  },
  {
   "cell_type": "code",
   "execution_count": 5,
   "metadata": {},
   "outputs": [],
   "source": [
    "for i in 1:size(r)[1], j in 1:size(r)[2] \n",
    "    r[i,j]=min(r[i,j],1)\n",
    "end"
   ]
  },
  {
   "cell_type": "code",
   "execution_count": 6,
   "metadata": {},
   "outputs": [],
   "source": [
    "max_r=zeros(length(Ns))\n",
    "i=0\n",
    "for N in Ns\n",
    "    i+=1\n",
    "    max_r[i]=60*νs[findfirst(x->x>0.05,r[i,:])]\n",
    "end\n",
    "colors=[:green, :blue, :purple, :red];"
   ]
  },
  {
   "cell_type": "markdown",
   "metadata": {},
   "source": [
    "# Δp app"
   ]
  },
  {
   "cell_type": "code",
   "execution_count": 7,
   "metadata": {},
   "outputs": [],
   "source": [
    "ui= @manipulate for buscost in range(0,0.2,length=101), t_0 in range(0.1,5.0,length=101),\n",
    "ρ_0 in range(0.1,2.5,length=101), γ in range(0.0,1.0,length=101),colorlog in [-2,-1,0]\n",
    "    \n",
    "    #calculate popularity\n",
    "    I=(((s.+buscost*Ns)./ρ_0).^(γ)) .* ((t./t_0).^(1-γ))\n",
    "    Δp=map(x->(1-x)/(1+x),I)\n",
    "    Δp=Δp.*(1 .- r) .+ (-1)*r\n",
    "    \n",
    "    #plot popularity\n",
    "    heatmap(60*νs,Ns,Δp,xlab=\"requests per minute\",ylab=\"number of buses\",title=\"popularity Δp\",yticks=Ns,\n",
    "            aspectratio=.6,c=[:red,:green],clim=(-10.0^colorlog,10.0^colorlog),frame=:box,size=[900,600],left_margin=8Plots.mm)\n",
    "    \n",
    "    #find and plot roots\n",
    "    for i in 1:length(Ns), j in 1:length(νs)-1\n",
    "        #stable fixed point\n",
    "        Δp[i,j]*Δp[i,j+1]>0 ? nothing : scatter!(60*0.5*[νs[j]+νs[j+1]],[Ns[i]],markercolor=(Δp[i,j]>0 ? :white : :black),markersize=5,label=:none)\n",
    "    end\n",
    "    \n",
    "    #plot rejection curve\n",
    "    plot!(max_r,Ns,linewidth=2,linecolor=:orange,markersize=5,markercolor=:orange,marker=:circle,label=\">5% rejected\")\n",
    "end;"
   ]
  },
  {
   "cell_type": "code",
   "execution_count": 8,
   "metadata": {},
   "outputs": [],
   "source": [
    "@layout! ui vbox(vbox(hbox(:buscost, :t_0, :ρ_0), hbox(:γ, :colorlog)), observe(_));"
   ]
  },
  {
   "cell_type": "code",
   "execution_count": 9,
   "metadata": {},
   "outputs": [],
   "source": [
    "WebIO.webio_serve(page(\"/\", req -> ui), 8101);"
   ]
  }
 ],
 "metadata": {
  "@webio": {
   "lastCommId": "f9141110-8cad-4fa3-9b27-a6eb9146de43",
   "lastKernelId": "081be343-cb08-48cb-8117-8f01acff36ac"
  },
  "kernelspec": {
   "display_name": "Julia 1.5.3",
   "language": "julia",
   "name": "julia-1.5"
  },
  "language_info": {
   "file_extension": ".jl",
   "mimetype": "application/julia",
   "name": "julia",
   "version": "1.5.3"
  }
 },
 "nbformat": 4,
 "nbformat_minor": 4
}
